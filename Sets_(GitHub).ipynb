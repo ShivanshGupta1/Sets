{
  "nbformat": 4,
  "nbformat_minor": 0,
  "metadata": {
    "colab": {
      "name": "Sets (GitHub).ipynb",
      "provenance": [],
      "collapsed_sections": [],
      "authorship_tag": "ABX9TyPEUHZ+bgw9aHsAlPtRFLgR",
      "include_colab_link": true
    },
    "kernelspec": {
      "name": "python3",
      "display_name": "Python 3"
    }
  },
  "cells": [
    {
      "cell_type": "markdown",
      "metadata": {
        "id": "view-in-github",
        "colab_type": "text"
      },
      "source": [
        "<a href=\"https://colab.research.google.com/github/ShivanshGupta1/Sets/blob/main/Sets_(GitHub).ipynb\" target=\"_parent\"><img src=\"https://colab.research.google.com/assets/colab-badge.svg\" alt=\"Open In Colab\"/></a>"
      ]
    },
    {
      "cell_type": "code",
      "metadata": {
        "id": "KUfJAlJ8g5aE",
        "colab": {
          "base_uri": "https://localhost:8080/",
          "height": 51
        },
        "outputId": "3b00aa8d-5d3f-4a70-c0c4-efbec389914b"
      },
      "source": [
        "Set = {1,2,3,20,5,8,10}\n",
        "print(Set)\n",
        "print(type(Set))\n",
        "#when 2 sets are diferent they are called disjoint"
      ],
      "execution_count": null,
      "outputs": [
        {
          "output_type": "stream",
          "text": [
            "{1, 2, 3, 5, 8, 10, 20}\n",
            "<class 'set'>\n"
          ],
          "name": "stdout"
        }
      ]
    },
    {
      "cell_type": "code",
      "metadata": {
        "id": "cDfrvwlPjAy0",
        "colab": {
          "base_uri": "https://localhost:8080/",
          "height": 51
        },
        "outputId": "6480501a-846d-45dd-ec5e-684ac077588d"
      },
      "source": [
        "fruits = {\"Mango\",\"Apple\",\"Orange\",\"Banana\"}\n",
        "print(fruits)\n",
        "#for one element\n",
        "fruits.add(\"Pear\")\n",
        "print(fruits)"
      ],
      "execution_count": null,
      "outputs": [
        {
          "output_type": "stream",
          "text": [
            "{'Apple', 'Banana', 'Mango', 'Orange'}\n",
            "{'Orange', 'Banana', 'Pear', 'Apple', 'Mango'}\n"
          ],
          "name": "stdout"
        }
      ]
    },
    {
      "cell_type": "code",
      "metadata": {
        "id": "DfdSurNoj0qv",
        "colab": {
          "base_uri": "https://localhost:8080/",
          "height": 51
        },
        "outputId": "cf4365ee-bb8e-43f3-f166-cffee7ca7969"
      },
      "source": [
        "fruits = {\"Mango\",\"Apple\",\"Orange\",\"Banana\"}\n",
        "fruits2 = {\"apple\",\"any\",\"any2\",\"any3\"}\n",
        "#takes list as input\n",
        "#for multiple elements\n",
        "fruits.update([\"Kiwi\",\"Pineapple\"])\n",
        "print(fruits)\n",
        "fruits.update(fruits2)\n",
        "print(fruits)\n"
      ],
      "execution_count": null,
      "outputs": [
        {
          "output_type": "stream",
          "text": [
            "{'Orange', 'Apple', 'Kiwi', 'Banana', 'Mango', 'Pineapple'}\n",
            "{'any', 'Orange', 'any2', 'any3', 'Apple', 'Kiwi', 'Banana', 'Mango', 'apple', 'Pineapple'}\n"
          ],
          "name": "stdout"
        }
      ]
    },
    {
      "cell_type": "code",
      "metadata": {
        "id": "A4dRk4bGkUOH",
        "colab": {
          "base_uri": "https://localhost:8080/",
          "height": 51
        },
        "outputId": "56628376-29ee-4375-bbe0-1334d52fd142"
      },
      "source": [
        "names = {\"Shivansh\",\"Daksh\",\"Kanishk\",\"Vivaan\",\"Sahib\"}\n",
        "Input = input(\"Names\").split(',')\n",
        "names.update(Input)\n",
        "print(names)"
      ],
      "execution_count": null,
      "outputs": [
        {
          "output_type": "stream",
          "text": [
            "Names1\n",
            "{'Kanishk', 'Shivansh', '1', 'Sahib', 'Daksh', 'Vivaan'}\n"
          ],
          "name": "stdout"
        }
      ]
    },
    {
      "cell_type": "code",
      "metadata": {
        "id": "vO4XhntwlG6I",
        "colab": {
          "base_uri": "https://localhost:8080/",
          "height": 51
        },
        "outputId": "eee81642-0ebe-4b37-ef90-de3d2a7c818d"
      },
      "source": [
        "#remove\n",
        "fruits = {\"Mango\",\"Apple\",\"Orange\",\"Banana\"}\n",
        "fruits.remove(\"Apple\")\n",
        "print(fruits)\n",
        "#remove helps to remove and existing elements, but i it is not there, then it throws an erro, so a safer method is\n",
        "#discard -  it does not throw error if element is not there\n",
        "fruits.discard(\"Apple\")\n",
        "fruits.discard(\"Banana\")\n",
        "print(fruits)"
      ],
      "execution_count": null,
      "outputs": [
        {
          "output_type": "stream",
          "text": [
            "{'Banana', 'Mango', 'Orange'}\n",
            "{'Mango', 'Orange'}\n"
          ],
          "name": "stdout"
        }
      ]
    },
    {
      "cell_type": "code",
      "metadata": {
        "id": "aXzt2nxml-sY",
        "colab": {
          "base_uri": "https://localhost:8080/",
          "height": 198
        },
        "outputId": "74afa0d3-a773-4bfc-be67-d7ab6c3bc791"
      },
      "source": [
        "#delete - keyword (to delete the entire set)\n",
        "fruits = {\"Mango\",\"Apple\",\"Orange\",\"Banana\"}\n",
        "del fruits\n",
        "print(fruits) #this will now throw an error as the set does not exist"
      ],
      "execution_count": null,
      "outputs": [
        {
          "output_type": "error",
          "ename": "NameError",
          "evalue": "ignored",
          "traceback": [
            "\u001b[0;31m---------------------------------------------------------------------------\u001b[0m",
            "\u001b[0;31mNameError\u001b[0m                                 Traceback (most recent call last)",
            "\u001b[0;32m<ipython-input-6-1a1bc73d2728>\u001b[0m in \u001b[0;36m<module>\u001b[0;34m()\u001b[0m\n\u001b[1;32m      2\u001b[0m \u001b[0mfruits\u001b[0m \u001b[0;34m=\u001b[0m \u001b[0;34m{\u001b[0m\u001b[0;34m\"Mango\"\u001b[0m\u001b[0;34m,\u001b[0m\u001b[0;34m\"Apple\"\u001b[0m\u001b[0;34m,\u001b[0m\u001b[0;34m\"Orange\"\u001b[0m\u001b[0;34m,\u001b[0m\u001b[0;34m\"Banana\"\u001b[0m\u001b[0;34m}\u001b[0m\u001b[0;34m\u001b[0m\u001b[0;34m\u001b[0m\u001b[0m\n\u001b[1;32m      3\u001b[0m \u001b[0;32mdel\u001b[0m \u001b[0mfruits\u001b[0m\u001b[0;34m\u001b[0m\u001b[0;34m\u001b[0m\u001b[0m\n\u001b[0;32m----> 4\u001b[0;31m \u001b[0mprint\u001b[0m\u001b[0;34m(\u001b[0m\u001b[0mfruits\u001b[0m\u001b[0;34m)\u001b[0m \u001b[0;31m#this will now throw an error as the set does not exist\u001b[0m\u001b[0;34m\u001b[0m\u001b[0;34m\u001b[0m\u001b[0m\n\u001b[0m",
            "\u001b[0;31mNameError\u001b[0m: name 'fruits' is not defined"
          ]
        }
      ]
    },
    {
      "cell_type": "code",
      "metadata": {
        "id": "frQUY382ipsr",
        "colab": {
          "base_uri": "https://localhost:8080/",
          "height": 51
        },
        "outputId": "eb782ae1-6bb3-4ae9-87d1-f590ad1d72c9"
      },
      "source": [
        "#intersection -  takes the intersection of similiarities in 2 or more sets\n",
        "letters = {\"a\",\"b\",\"c\",\"d\"}\n",
        "letters2 = {\"z\",\"y\",\"c\",\"e\",\"a\"}\n",
        "letters3 = {\"c\",\"any\",\"any2\",\"any3\"}\n",
        "newLetter = letters2.intersection(letters)\n",
        "allLetter = newLetter.intersection(letters3)\n",
        "print(newLetter)\n",
        "print(allLetter)"
      ],
      "execution_count": null,
      "outputs": [
        {
          "output_type": "stream",
          "text": [
            "{'a', 'c'}\n",
            "{'c'}\n"
          ],
          "name": "stdout"
        }
      ]
    },
    {
      "cell_type": "code",
      "metadata": {
        "id": "K_JMG04Cm5ed",
        "colab": {
          "base_uri": "https://localhost:8080/",
          "height": 51
        },
        "outputId": "db830ef8-4501-4b03-ad77-cf7f645b2d1f"
      },
      "source": [
        "# if there are 2 sets, A, which has all B's eleements and its own, then we can say - \n",
        "# A is a superset of B\n",
        "#B is a subset of A\n",
        "Integers = {-5,-4,-3,-2,-1,0,1,2,3,4,5,}\n",
        "naturalNumbers = {0,1,2,3,4,5}\n",
        "Answer_1 = Integers.issuperset(naturalNumbers)\n",
        "Answer_2 = naturalNumbers.issubset(Integers)\n",
        "print(Answer_1)\n",
        "print(Answer_2)"
      ],
      "execution_count": null,
      "outputs": [
        {
          "output_type": "stream",
          "text": [
            "True\n",
            "True\n"
          ],
          "name": "stdout"
        }
      ]
    },
    {
      "cell_type": "code",
      "metadata": {
        "id": "4gPSSlWhosel",
        "colab": {
          "base_uri": "https://localhost:8080/",
          "height": 34
        },
        "outputId": "9100d662-7eb9-4abf-e37f-1507c2dee546"
      },
      "source": [
        "# all the other part except for intersection is called symmetric difference\n",
        "Integers = {-5,-4,-3,-2,-1,0,1,2,3,4,5,}\n",
        "naturalNumbers = {0,1,2,3,4,5,}\n",
        "difference = Integers.symmetric_difference(naturalNumbers)\n",
        "print(difference)"
      ],
      "execution_count": null,
      "outputs": [
        {
          "output_type": "stream",
          "text": [
            "{10, -2, -5, -4, -3, -1}\n"
          ],
          "name": "stdout"
        }
      ]
    },
    {
      "cell_type": "code",
      "metadata": {
        "id": "nL96vtABl9dm",
        "colab": {
          "base_uri": "https://localhost:8080/",
          "height": 34
        },
        "outputId": "5ef11da7-8824-4736-b066-5ffb679cf036"
      },
      "source": [
        "# to create empty set use set()\n",
        "s1 = set()\n",
        "print(s1)"
      ],
      "execution_count": null,
      "outputs": [
        {
          "output_type": "stream",
          "text": [
            "set()\n"
          ],
          "name": "stdout"
        }
      ]
    }
  ]
}